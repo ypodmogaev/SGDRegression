{
 "cells": [
  {
   "cell_type": "code",
   "execution_count": 18,
   "id": "5a1ab71a",
   "metadata": {},
   "outputs": [],
   "source": [
    "import pandas as pd\n",
    "from sklearn.preprocessing import StandardScaler\n",
    "from sklearn.model_selection import train_test_split, GridSearchCV\n",
    "from sklearn.pipeline import Pipeline\n",
    "from sklearn.linear_model import SGDRegressor\n",
    "from sklearn.metrics import mean_absolute_error, mean_absolute_percentage_error"
   ]
  },
  {
   "cell_type": "code",
   "execution_count": 19,
   "id": "9802dc07",
   "metadata": {},
   "outputs": [],
   "source": [
    "data = fetch_california_housing(as_frame=True)\n",
    "X = pd.DataFrame(data.data, columns=data.feature_names)[['MedInc', 'HouseAge', 'AveRooms', 'AveBedrms', 'Population', 'AveOccup']]\n",
    "y = data.target\n",
    "\n",
    "X_train, X_test, y_train, y_test = train_test_split(X, y, test_size=0.3, random_state=10)"
   ]
  },
  {
   "cell_type": "code",
   "execution_count": 20,
   "id": "c8f787ca",
   "metadata": {},
   "outputs": [
    {
     "data": {
      "text/html": [
       "<div>\n",
       "<style scoped>\n",
       "    .dataframe tbody tr th:only-of-type {\n",
       "        vertical-align: middle;\n",
       "    }\n",
       "\n",
       "    .dataframe tbody tr th {\n",
       "        vertical-align: top;\n",
       "    }\n",
       "\n",
       "    .dataframe thead th {\n",
       "        text-align: right;\n",
       "    }\n",
       "</style>\n",
       "<table border=\"1\" class=\"dataframe\">\n",
       "  <thead>\n",
       "    <tr style=\"text-align: right;\">\n",
       "      <th></th>\n",
       "      <th>MedInc</th>\n",
       "      <th>HouseAge</th>\n",
       "      <th>AveRooms</th>\n",
       "      <th>AveBedrms</th>\n",
       "      <th>Population</th>\n",
       "      <th>AveOccup</th>\n",
       "    </tr>\n",
       "  </thead>\n",
       "  <tbody>\n",
       "    <tr>\n",
       "      <th>17853</th>\n",
       "      <td>5.3994</td>\n",
       "      <td>23.0</td>\n",
       "      <td>5.019157</td>\n",
       "      <td>1.022989</td>\n",
       "      <td>910.0</td>\n",
       "      <td>3.486590</td>\n",
       "    </tr>\n",
       "    <tr>\n",
       "      <th>15963</th>\n",
       "      <td>3.9567</td>\n",
       "      <td>52.0</td>\n",
       "      <td>5.173664</td>\n",
       "      <td>1.127863</td>\n",
       "      <td>1848.0</td>\n",
       "      <td>3.526718</td>\n",
       "    </tr>\n",
       "    <tr>\n",
       "      <th>20106</th>\n",
       "      <td>3.0500</td>\n",
       "      <td>17.0</td>\n",
       "      <td>5.383764</td>\n",
       "      <td>1.095941</td>\n",
       "      <td>753.0</td>\n",
       "      <td>2.778598</td>\n",
       "    </tr>\n",
       "  </tbody>\n",
       "</table>\n",
       "</div>"
      ],
      "text/plain": [
       "       MedInc  HouseAge  AveRooms  AveBedrms  Population  AveOccup\n",
       "17853  5.3994      23.0  5.019157   1.022989       910.0  3.486590\n",
       "15963  3.9567      52.0  5.173664   1.127863      1848.0  3.526718\n",
       "20106  3.0500      17.0  5.383764   1.095941       753.0  2.778598"
      ]
     },
     "execution_count": 20,
     "metadata": {},
     "output_type": "execute_result"
    }
   ],
   "source": [
    "X_train[:3]"
   ]
  },
  {
   "cell_type": "code",
   "execution_count": 24,
   "id": "e1dfa473",
   "metadata": {},
   "outputs": [
    {
     "name": "stdout",
     "output_type": "stream",
     "text": [
      "Best SGDRegressor parameters: {'sgdr__alpha': 0.0001, 'sgdr__learning_rate': 'constant', 'sgdr__loss': 'huber', 'sgdr__penalty': 'l1'}\n",
      "MAE: 0.560597598459277\n",
      "MAPE: 31.146125850540063\n"
     ]
    }
   ],
   "source": [
    "# Create pipeline with scaler and SGDRegressor\n",
    "pipeline = Pipeline(steps=[\n",
    "    (\"scaler\", StandardScaler()),\n",
    "    (\"sgdr\", SGDRegressor())\n",
    "])\n",
    "\n",
    "# Define parameter grid\n",
    "param_grid = {\n",
    "    \"sgdr__loss\": [\"huber\", \"squared_error\"],\n",
    "    \"sgdr__penalty\": [\"l1\", \"l2\"],\n",
    "    \"sgdr__alpha\": [0.0001, 0.001, 0.01, 0.1],\n",
    "    \"sgdr__learning_rate\": [\"constant\", \"invscaling\", \"adaptive\"],\n",
    "}\n",
    "\n",
    "# Create GridSearchCV with pipeline\n",
    "grid_search = GridSearchCV(pipeline, param_grid, cv=5, scoring=\"neg_mean_absolute_error\")\n",
    "\n",
    "# Fit the model\n",
    "grid_search.fit(X_train, y_train)\n",
    "\n",
    "# Make predictions on test data\n",
    "y_pred = grid_search.predict(X_test)\n",
    "\n",
    "# Calculate MAE and MAPE\n",
    "mae = mean_absolute_error(y_test, y_pred)\n",
    "mape = mean_absolute_percentage_error(y_test, y_pred) * 100  # Convert to percentage\n",
    "\n",
    "# Print results\n",
    "print(\"Best SGDRegressor parameters:\", grid_search.best_params_)\n",
    "print(\"MAE:\", mae)\n",
    "print(\"MAPE:\", mape)"
   ]
  },
  {
   "cell_type": "code",
   "execution_count": null,
   "id": "a96d78c5",
   "metadata": {},
   "outputs": [],
   "source": []
  }
 ],
 "metadata": {
  "kernelspec": {
   "display_name": "Python 3 (ipykernel)",
   "language": "python",
   "name": "python3"
  },
  "language_info": {
   "codemirror_mode": {
    "name": "ipython",
    "version": 3
   },
   "file_extension": ".py",
   "mimetype": "text/x-python",
   "name": "python",
   "nbconvert_exporter": "python",
   "pygments_lexer": "ipython3",
   "version": "3.11.5"
  }
 },
 "nbformat": 4,
 "nbformat_minor": 5
}
